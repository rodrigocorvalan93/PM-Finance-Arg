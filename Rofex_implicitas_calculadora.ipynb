{
  "nbformat": 4,
  "nbformat_minor": 0,
  "metadata": {
    "colab": {
      "name": "Rofex-implicitas-calculadora.ipynb",
      "provenance": [],
      "collapsed_sections": [],
      "include_colab_link": true
    },
    "kernelspec": {
      "name": "python3",
      "display_name": "Python 3"
    }
  },
  "cells": [
    {
      "cell_type": "markdown",
      "metadata": {
        "id": "view-in-github",
        "colab_type": "text"
      },
      "source": [
        "<a href=\"https://colab.research.google.com/github/rodrigocorvalan93/PM-Finance-Arg/blob/master/Rofex_implicitas_calculadora.ipynb\" target=\"_parent\"><img src=\"https://colab.research.google.com/assets/colab-badge.svg\" alt=\"Open In Colab\"/></a>"
      ]
    },
    {
      "cell_type": "markdown",
      "metadata": {
        "id": "zRF9C05l0fZ8"
      },
      "source": [
        "<table><thead><tr><th colspan=\"2\"><img src=\"https://encrypted-tbn0.gstatic.com/images?q=tbn%3AANd9GcSb3TdeZOqFh5vvswFlggO2CZC1lyTZbCQvbQ&usqp=CAU\" alt=\"Logo Delta Asset Managemetn\" width=\"578\" height=\"87\"></th></tr></thead></table>\n",
        "<h2>Tasas Impl&iacute;citas Rofex - Delta Asset Management</h2><p>Calculadora de curvas de tasas impl&iacute;citas.<br>Instrucciones:</p><p>1) Secci&oacute;n 1 - Instalaci&oacute;n de Paquetes - Conexi&oacute;n con demo account - Funciones Auxiliares (correrlo con play)</p><p>2) Secci&oacute;n 2 - Calculadora de tasas impl&iacute;citas (setear tipo de cambio y correr)</p>"
      ]
    },
    {
      "cell_type": "markdown",
      "metadata": {
        "id": "5AteJ_ozRRml"
      },
      "source": [
        "# Instalación de Paquetes - Conexión con demo account - Funciones Auxiliares\n",
        "---\n",
        "\n"
      ]
    },
    {
      "cell_type": "code",
      "metadata": {
        "id": "GA45DwKGTOq7",
        "cellView": "form",
        "outputId": "a5918b44-7fd5-4fcc-cf29-48afd9b9e6a9",
        "colab": {
          "base_uri": "https://localhost:8080/"
        }
      },
      "source": [
        "#@title Bloque Instalaciones\n",
        "# %% Instalaciones\n",
        "!pip install pyRofex\n",
        "!pip install plotly\n",
        "%load_ext google.colab.data_table"
      ],
      "execution_count": null,
      "outputs": [
        {
          "output_type": "stream",
          "text": [
            "Requirement already satisfied: pyRofex in /usr/local/lib/python3.6/dist-packages (0.3.0)\n",
            "Requirement already satisfied: enum34>=1.1.6 in /usr/local/lib/python3.6/dist-packages (from pyRofex) (1.1.10)\n",
            "Requirement already satisfied: websocket-client>=0.54.0 in /usr/local/lib/python3.6/dist-packages (from pyRofex) (0.57.0)\n",
            "Requirement already satisfied: requests>=2.20.0 in /usr/local/lib/python3.6/dist-packages (from pyRofex) (2.23.0)\n",
            "Requirement already satisfied: simplejson>=3.10.0 in /usr/local/lib/python3.6/dist-packages (from pyRofex) (3.17.2)\n",
            "Requirement already satisfied: six in /usr/local/lib/python3.6/dist-packages (from websocket-client>=0.54.0->pyRofex) (1.15.0)\n",
            "Requirement already satisfied: idna<3,>=2.5 in /usr/local/lib/python3.6/dist-packages (from requests>=2.20.0->pyRofex) (2.10)\n",
            "Requirement already satisfied: certifi>=2017.4.17 in /usr/local/lib/python3.6/dist-packages (from requests>=2.20.0->pyRofex) (2020.6.20)\n",
            "Requirement already satisfied: chardet<4,>=3.0.2 in /usr/local/lib/python3.6/dist-packages (from requests>=2.20.0->pyRofex) (3.0.4)\n",
            "Requirement already satisfied: urllib3!=1.25.0,!=1.25.1,<1.26,>=1.21.1 in /usr/local/lib/python3.6/dist-packages (from requests>=2.20.0->pyRofex) (1.24.3)\n",
            "Requirement already satisfied: plotly in /usr/local/lib/python3.6/dist-packages (4.4.1)\n",
            "Requirement already satisfied: six in /usr/local/lib/python3.6/dist-packages (from plotly) (1.15.0)\n",
            "Requirement already satisfied: retrying>=1.3.3 in /usr/local/lib/python3.6/dist-packages (from plotly) (1.3.3)\n"
          ],
          "name": "stdout"
        }
      ]
    },
    {
      "cell_type": "code",
      "metadata": {
        "id": "iUJHIQksRJgX",
        "cellView": "form"
      },
      "source": [
        "#@title Bloque de importación de paquetes\n",
        "# %% Imports\n",
        "from ipywidgets import widgets\n",
        "import pandas as pd\n",
        "import datetime as dt\n",
        "import matplotlib.pyplot as plt\n",
        "import plotly.express as px\n",
        "import plotly.graph_objects as go\n",
        "from plotly.subplots import make_subplots\n",
        "import time\n",
        "import pyRofex\n"
      ],
      "execution_count": null,
      "outputs": []
    },
    {
      "cell_type": "code",
      "metadata": {
        "id": "bifWyPoxdZuO",
        "cellView": "form"
      },
      "source": [
        "#@title Bloque de funciones auxiliares, token de Remarkets: { run: \"auto\" }\n",
        "# %% Funciones auxiliares y token\n",
        "\n",
        "def tea(precio, capital, plazo):\n",
        "    \"\"\"\n",
        "    Calcula la TEA de una letra.\n",
        "    Parámetros:\n",
        "        precio  : Precio de la letra cada 100 VN.\n",
        "        capital : Monto de capital que devuelve la letra cada 100 VN.\n",
        "        plazo   : Plazo residual en días.\n",
        "    \"\"\"\n",
        "    return (capital / precio) ** (365. / plazo) - 1.\n",
        "\n",
        "def tna(precio, capital, plazo):\n",
        "    \"\"\"\n",
        "    Calcula la TNA de una letra.\n",
        "    Parámetros:\n",
        "        precio  : Precio de la letra cada 100 VN.\n",
        "        capital : Monto de capital que devuelve la letra cada 100 VN.\n",
        "        plazo   : Plazo residual en días.\n",
        "    \"\"\"\n",
        "    return ((capital / precio) - 1.) * (365. / plazo)\n",
        "################# TOKENS REMARKETS ###########################\n",
        "# Seteamos acceso:\n",
        "usuario = \"rodrigocorvalan934316\"\n",
        "contraseña = \"negqnF0!\"\n",
        "cuenta = \"REM4316\"\n",
        "# Ingresamos los parametros pare el entorno: REMARKET environment\n",
        "pyRofex.initialize(user=usuario,\n",
        "                   password=contraseña,\n",
        "                   account=cuenta,\n",
        "                   environment=pyRofex.Environment.REMARKET)\n",
        "\n",
        "################# Código no muy necesario ###########################\n",
        "# Setear curva de futuros:\n",
        "instrumentos = [\"DoOct20A\", \"DoNov20A\", \"DoDic20A\", \"DoEne21A\", \"DoEne21A\",\n",
        "                \"DoFeb21A\", \"DoMar21A\", \"DoAbr21A\", \"DoMay21A\", \"DoJun21A\",\n",
        "                \"DoJul21A\", \"DoAgo21A\", \"DoSep21A\"]\n",
        "# Obtengo lista de tickers de futuros:\n",
        "\n"
      ],
      "execution_count": null,
      "outputs": []
    },
    {
      "cell_type": "code",
      "metadata": {
        "id": "1_UQ7e-NqFzl",
        "cellView": "form",
        "outputId": "3d0aff02-71eb-4f82-9228-ba6c27ce8396",
        "colab": {
          "base_uri": "https://localhost:8080/"
        }
      },
      "source": [
        "#@title Bloque A3500\n",
        "# %% Bloque A3500\n",
        "a3500 = pd.read_excel(\n",
        "            'http://www.bcra.gob.ar/Pdfs/PublicacionesEstadisticas/com3500.xls',\n",
        "            sheet_name='TCR diario y TCNPM', usecols=\"C,D\", index_col=0,\n",
        "            skiprows=4, header=None, parse_dates=True,\n",
        "            names=['fecha','tca3500'])\n",
        "\n",
        "f\"El último dólar A3500: {a3500['tca3500'][-1]}\"\n"
      ],
      "execution_count": null,
      "outputs": [
        {
          "output_type": "execute_result",
          "data": {
            "application/vnd.google.colaboratory.intrinsic+json": {
              "type": "string"
            },
            "text/plain": [
              "'El último dólar A3500: 77.5317'"
            ]
          },
          "metadata": {
            "tags": []
          },
          "execution_count": 4
        }
      ]
    },
    {
      "cell_type": "markdown",
      "metadata": {
        "id": "mAZtvbAT0HZ0"
      },
      "source": [
        "# Cotizaciones e implícitas Rofex"
      ]
    },
    {
      "cell_type": "markdown",
      "metadata": {
        "id": "mXDZI8mjkCUe"
      },
      "source": [
        "## Parámetros y Spot"
      ]
    },
    {
      "cell_type": "code",
      "metadata": {
        "id": "yVhctj9P72bA",
        "cellView": "form",
        "outputId": "d437ab41-8e6a-428e-d5ae-34a85d58dfb8",
        "colab": {
          "base_uri": "https://localhost:8080/",
          "height": 35
        }
      },
      "source": [
        "#@markdown FYI último A3500\n",
        "f\"El último dólar A3500: {a3500['tca3500'][-1]}\""
      ],
      "execution_count": null,
      "outputs": [
        {
          "output_type": "execute_result",
          "data": {
            "application/vnd.google.colaboratory.intrinsic+json": {
              "type": "string"
            },
            "text/plain": [
              "'El último dólar A3500: 77.5317'"
            ]
          },
          "metadata": {
            "tags": []
          },
          "execution_count": 5
        }
      ]
    },
    {
      "cell_type": "code",
      "metadata": {
        "id": "ufcaW6KOQ3Xh",
        "cellView": "form"
      },
      "source": [
        "#@title Bloque Impoertante: DATABASE (Actualizar bloque para actualizar todo) { run: \"auto\", vertical-output: true }\n",
        "#@markdown Modificar Fx para cálculo de implícitas y elegir tipo de futuro\n",
        "tipo_dolar_futuro = \"Mayorista A: DOmmmaaA\" #@param [\"Mayorista A: DOmmmaaA\", \"Minorista: DOmmmaa\"]\n",
        "spot_fx =  77.5317#@param {type:\"number\"}\n",
        "# %% Database\n",
        "################# Código Necesario, database: ###########################\n",
        "# Básicamente pido la lista de todos los instrumentos get_all_instruments()\n",
        "# Y luego filtro aquellos que tengan 'DO' que son Dolar Futuro y como los\n",
        "# Tickers de futuros se dividen en minoristas DOmmmyy y DOmmmyyA, pido\n",
        "# Tickers con 7 caracteres y 8 caracteres para minoristaas y mayoristas resp.\n",
        "pyRofex.get_market_data(ticker=instrumentos[2],\n",
        "                        entries=[pyRofex.MarketDataEntry.LAST])\n",
        "all = pyRofex.get_all_instruments()\n",
        "dict_all_inst = all['instruments']\n",
        "instrumento_inicial = all['instruments'][0]['instrumentId']['symbol']\n",
        "fut_usd_rfx_A = [e['instrumentId']['symbol'] for e\n",
        "                in all['instruments']\n",
        "                if len(e['instrumentId']['symbol']) == 8\n",
        "                    and 'DO' in e['instrumentId']['symbol']]\n",
        "fut_usd_rfx = [e['instrumentId']['symbol'] for e\n",
        "                in all['instruments']\n",
        "                if len(e['instrumentId']['symbol']) == 7\n",
        "                    and 'DO' in e['instrumentId']['symbol']]\n",
        "# %% Convertidor de list dict to table para info de Especies rofex\n",
        "# Initialise data to lists.\n",
        "if tipo_dolar_futuro == \"Mayorista A: DOmmmaaA\":\n",
        "  fut_usd_rfx_A\n",
        "elif tipo_dolar_futuro == \"Minorista: DOmmmaa\":\n",
        "  fut_usd_rfx_A = fut_usd_rfx\n",
        "\n",
        "info = [pyRofex.get_instrument_details(futuros)['instrument'] for futuros\n",
        "        in fut_usd_rfx_A]\n",
        "# Creates DataFrame.\n",
        "df = pd.DataFrame(info, index = fut_usd_rfx_A)\n",
        "# Creamos id\n",
        "df['id'] = [e['symbol'] for e in df['instrumentId']]\n",
        "# Creamos columna de maturity con formato fecha\n",
        "df['maturityDate'] = pd.to_datetime(df['maturityDate'], infer_datetime_format=True)\n",
        "# Ordeno maturity date\n",
        "df = df.sort_values('maturityDate')\n",
        "# Creamos dias al vencimiento\n",
        "df['DiasAlVto'] = (df['maturityDate'] - dt.datetime.now()).dt.days\n",
        "\n",
        "# Creamos\n",
        "\n",
        "mkt_data = [pyRofex.get_market_data(e)['marketData'] for e in fut_usd_rfx_A]\n",
        "mkt_data_pd = pd.DataFrame(mkt_data, index = fut_usd_rfx_A)\n",
        "df = pd.concat([df, mkt_data_pd], axis=1, join='inner')\n",
        "\n",
        "# Formato Porcentajes:\n",
        "format_dict = {\n",
        "    'tea': '{:.2%}',\n",
        "    'tna': '{:.2%}'\n",
        "}\n",
        "\n",
        "\n",
        "\n"
      ],
      "execution_count": null,
      "outputs": []
    },
    {
      "cell_type": "markdown",
      "metadata": {
        "id": "YdXm7Ryajzrz"
      },
      "source": [
        "## Curva Implícita Settlement"
      ]
    },
    {
      "cell_type": "code",
      "metadata": {
        "id": "xBamYOQiYapM",
        "cellView": "form",
        "outputId": "c1b26b99-bc38-492a-e807-f16f684d9e76",
        "colab": {
          "base_uri": "https://localhost:8080/",
          "height": 271
        }
      },
      "source": [
        "#@title Yield Curves a Settlement\n",
        "curva_settlement = df[['id','DiasAlVto','SE']].dropna()\n",
        "curva_settlement['precio'] = [e['price'] for e in curva_settlement['SE']]\n",
        "curva_settlement['tna'] = tna(spot_fx,\n",
        "                            curva_settlement['precio'],\n",
        "                            curva_settlement['DiasAlVto'])\n",
        "curva_settlement['tea'] = tna(spot_fx,\n",
        "                            curva_settlement['precio'],\n",
        "                            curva_settlement['DiasAlVto'])\n",
        "# Cleaning curva_settlement\n",
        "\n",
        "#Style pandas curva_settlement.style.hide_index().hide_columns(['SE']).format(format_dict)\n",
        "#Style google:\n",
        "curva_settlement.style.hide_index().hide_columns(['SE']).format(format_dict)"
      ],
      "execution_count": null,
      "outputs": [
        {
          "output_type": "execute_result",
          "data": {
            "text/html": [
              "<style  type=\"text/css\" >\n",
              "</style><table id=\"T_c43da014_0fe3_11eb_84e5_0242ac1c0002\" ><thead>    <tr>        <th class=\"col_heading level0 col0\" >id</th>        <th class=\"col_heading level0 col1\" >DiasAlVto</th>        <th class=\"col_heading level0 col3\" >precio</th>        <th class=\"col_heading level0 col4\" >tna</th>        <th class=\"col_heading level0 col5\" >tea</th>    </tr></thead><tbody>\n",
              "                <tr>\n",
              "                                <td id=\"T_c43da014_0fe3_11eb_84e5_0242ac1c0002row0_col0\" class=\"data row0 col0\" >DOOct20A</td>\n",
              "                        <td id=\"T_c43da014_0fe3_11eb_84e5_0242ac1c0002row0_col1\" class=\"data row0 col1\" >13</td>\n",
              "                                <td id=\"T_c43da014_0fe3_11eb_84e5_0242ac1c0002row0_col3\" class=\"data row0 col3\" >78.650000</td>\n",
              "                        <td id=\"T_c43da014_0fe3_11eb_84e5_0242ac1c0002row0_col4\" class=\"data row0 col4\" >41.66%</td>\n",
              "                        <td id=\"T_c43da014_0fe3_11eb_84e5_0242ac1c0002row0_col5\" class=\"data row0 col5\" >41.66%</td>\n",
              "            </tr>\n",
              "            <tr>\n",
              "                                <td id=\"T_c43da014_0fe3_11eb_84e5_0242ac1c0002row1_col0\" class=\"data row1 col0\" >DONov20A</td>\n",
              "                        <td id=\"T_c43da014_0fe3_11eb_84e5_0242ac1c0002row1_col1\" class=\"data row1 col1\" >44</td>\n",
              "                                <td id=\"T_c43da014_0fe3_11eb_84e5_0242ac1c0002row1_col3\" class=\"data row1 col3\" >81.540000</td>\n",
              "                        <td id=\"T_c43da014_0fe3_11eb_84e5_0242ac1c0002row1_col4\" class=\"data row1 col4\" >43.24%</td>\n",
              "                        <td id=\"T_c43da014_0fe3_11eb_84e5_0242ac1c0002row1_col5\" class=\"data row1 col5\" >43.24%</td>\n",
              "            </tr>\n",
              "            <tr>\n",
              "                                <td id=\"T_c43da014_0fe3_11eb_84e5_0242ac1c0002row2_col0\" class=\"data row2 col0\" >DODic20A</td>\n",
              "                        <td id=\"T_c43da014_0fe3_11eb_84e5_0242ac1c0002row2_col1\" class=\"data row2 col1\" >74</td>\n",
              "                                <td id=\"T_c43da014_0fe3_11eb_84e5_0242ac1c0002row2_col3\" class=\"data row2 col3\" >85.510000</td>\n",
              "                        <td id=\"T_c43da014_0fe3_11eb_84e5_0242ac1c0002row2_col4\" class=\"data row2 col4\" >50.98%</td>\n",
              "                        <td id=\"T_c43da014_0fe3_11eb_84e5_0242ac1c0002row2_col5\" class=\"data row2 col5\" >50.98%</td>\n",
              "            </tr>\n",
              "            <tr>\n",
              "                                <td id=\"T_c43da014_0fe3_11eb_84e5_0242ac1c0002row3_col0\" class=\"data row3 col0\" >DOEne21A</td>\n",
              "                        <td id=\"T_c43da014_0fe3_11eb_84e5_0242ac1c0002row3_col1\" class=\"data row3 col1\" >104</td>\n",
              "                                <td id=\"T_c43da014_0fe3_11eb_84e5_0242ac1c0002row3_col3\" class=\"data row3 col3\" >88.450000</td>\n",
              "                        <td id=\"T_c43da014_0fe3_11eb_84e5_0242ac1c0002row3_col4\" class=\"data row3 col4\" >49.59%</td>\n",
              "                        <td id=\"T_c43da014_0fe3_11eb_84e5_0242ac1c0002row3_col5\" class=\"data row3 col5\" >49.59%</td>\n",
              "            </tr>\n",
              "            <tr>\n",
              "                                <td id=\"T_c43da014_0fe3_11eb_84e5_0242ac1c0002row4_col0\" class=\"data row4 col0\" >DOFeb21A</td>\n",
              "                        <td id=\"T_c43da014_0fe3_11eb_84e5_0242ac1c0002row4_col1\" class=\"data row4 col1\" >132</td>\n",
              "                                <td id=\"T_c43da014_0fe3_11eb_84e5_0242ac1c0002row4_col3\" class=\"data row4 col3\" >92.030000</td>\n",
              "                        <td id=\"T_c43da014_0fe3_11eb_84e5_0242ac1c0002row4_col4\" class=\"data row4 col4\" >51.84%</td>\n",
              "                        <td id=\"T_c43da014_0fe3_11eb_84e5_0242ac1c0002row4_col5\" class=\"data row4 col5\" >51.84%</td>\n",
              "            </tr>\n",
              "            <tr>\n",
              "                                <td id=\"T_c43da014_0fe3_11eb_84e5_0242ac1c0002row5_col0\" class=\"data row5 col0\" >DOMar21A</td>\n",
              "                        <td id=\"T_c43da014_0fe3_11eb_84e5_0242ac1c0002row5_col1\" class=\"data row5 col1\" >165</td>\n",
              "                                <td id=\"T_c43da014_0fe3_11eb_84e5_0242ac1c0002row5_col3\" class=\"data row5 col3\" >96.050000</td>\n",
              "                        <td id=\"T_c43da014_0fe3_11eb_84e5_0242ac1c0002row5_col4\" class=\"data row5 col4\" >52.95%</td>\n",
              "                        <td id=\"T_c43da014_0fe3_11eb_84e5_0242ac1c0002row5_col5\" class=\"data row5 col5\" >52.95%</td>\n",
              "            </tr>\n",
              "            <tr>\n",
              "                                <td id=\"T_c43da014_0fe3_11eb_84e5_0242ac1c0002row6_col0\" class=\"data row6 col0\" >DOAbr21A</td>\n",
              "                        <td id=\"T_c43da014_0fe3_11eb_84e5_0242ac1c0002row6_col1\" class=\"data row6 col1\" >195</td>\n",
              "                                <td id=\"T_c43da014_0fe3_11eb_84e5_0242ac1c0002row6_col3\" class=\"data row6 col3\" >99.900000</td>\n",
              "                        <td id=\"T_c43da014_0fe3_11eb_84e5_0242ac1c0002row6_col4\" class=\"data row6 col4\" >54.10%</td>\n",
              "                        <td id=\"T_c43da014_0fe3_11eb_84e5_0242ac1c0002row6_col5\" class=\"data row6 col5\" >54.10%</td>\n",
              "            </tr>\n",
              "            <tr>\n",
              "                                <td id=\"T_c43da014_0fe3_11eb_84e5_0242ac1c0002row7_col0\" class=\"data row7 col0\" >DOMay21A</td>\n",
              "                        <td id=\"T_c43da014_0fe3_11eb_84e5_0242ac1c0002row7_col1\" class=\"data row7 col1\" >226</td>\n",
              "                                <td id=\"T_c43da014_0fe3_11eb_84e5_0242ac1c0002row7_col3\" class=\"data row7 col3\" >102.850000</td>\n",
              "                        <td id=\"T_c43da014_0fe3_11eb_84e5_0242ac1c0002row7_col4\" class=\"data row7 col4\" >52.83%</td>\n",
              "                        <td id=\"T_c43da014_0fe3_11eb_84e5_0242ac1c0002row7_col5\" class=\"data row7 col5\" >52.83%</td>\n",
              "            </tr>\n",
              "            <tr>\n",
              "                                <td id=\"T_c43da014_0fe3_11eb_84e5_0242ac1c0002row8_col0\" class=\"data row8 col0\" >DOJun21A</td>\n",
              "                        <td id=\"T_c43da014_0fe3_11eb_84e5_0242ac1c0002row8_col1\" class=\"data row8 col1\" >256</td>\n",
              "                                <td id=\"T_c43da014_0fe3_11eb_84e5_0242ac1c0002row8_col3\" class=\"data row8 col3\" >106.210000</td>\n",
              "                        <td id=\"T_c43da014_0fe3_11eb_84e5_0242ac1c0002row8_col4\" class=\"data row8 col4\" >52.82%</td>\n",
              "                        <td id=\"T_c43da014_0fe3_11eb_84e5_0242ac1c0002row8_col5\" class=\"data row8 col5\" >52.82%</td>\n",
              "            </tr>\n",
              "            <tr>\n",
              "                                <td id=\"T_c43da014_0fe3_11eb_84e5_0242ac1c0002row9_col0\" class=\"data row9 col0\" >DOAgo21A</td>\n",
              "                        <td id=\"T_c43da014_0fe3_11eb_84e5_0242ac1c0002row9_col1\" class=\"data row9 col1\" >317</td>\n",
              "                                <td id=\"T_c43da014_0fe3_11eb_84e5_0242ac1c0002row9_col3\" class=\"data row9 col3\" >113.870000</td>\n",
              "                        <td id=\"T_c43da014_0fe3_11eb_84e5_0242ac1c0002row9_col4\" class=\"data row9 col4\" >54.04%</td>\n",
              "                        <td id=\"T_c43da014_0fe3_11eb_84e5_0242ac1c0002row9_col5\" class=\"data row9 col5\" >54.04%</td>\n",
              "            </tr>\n",
              "            <tr>\n",
              "                                <td id=\"T_c43da014_0fe3_11eb_84e5_0242ac1c0002row10_col0\" class=\"data row10 col0\" >DOSep21A</td>\n",
              "                        <td id=\"T_c43da014_0fe3_11eb_84e5_0242ac1c0002row10_col1\" class=\"data row10 col1\" >348</td>\n",
              "                                <td id=\"T_c43da014_0fe3_11eb_84e5_0242ac1c0002row10_col3\" class=\"data row10 col3\" >117.000000</td>\n",
              "                        <td id=\"T_c43da014_0fe3_11eb_84e5_0242ac1c0002row10_col4\" class=\"data row10 col4\" >53.46%</td>\n",
              "                        <td id=\"T_c43da014_0fe3_11eb_84e5_0242ac1c0002row10_col5\" class=\"data row10 col5\" >53.46%</td>\n",
              "            </tr>\n",
              "    </tbody></table>"
            ],
            "text/plain": [
              "<pandas.io.formats.style.Styler at 0x7f84e3740c50>"
            ]
          },
          "metadata": {
            "tags": []
          },
          "execution_count": 11
        }
      ]
    },
    {
      "cell_type": "code",
      "metadata": {
        "id": "2VQUb-PXlqxQ",
        "cellView": "form",
        "outputId": "d0f41f0e-9836-4043-a56b-1b367708c2ea",
        "colab": {
          "base_uri": "https://localhost:8080/",
          "height": 542
        }
      },
      "source": [
        "#@title Gráfico Settlement\n",
        "fig = px.scatter(curva_settlement, x='DiasAlVto', y=\"tna\", trendline=\"lowess\")\n",
        "fig.show()"
      ],
      "execution_count": null,
      "outputs": [
        {
          "output_type": "display_data",
          "data": {
            "text/html": [
              "<html>\n",
              "<head><meta charset=\"utf-8\" /></head>\n",
              "<body>\n",
              "    <div>\n",
              "            <script src=\"https://cdnjs.cloudflare.com/ajax/libs/mathjax/2.7.5/MathJax.js?config=TeX-AMS-MML_SVG\"></script><script type=\"text/javascript\">if (window.MathJax) {MathJax.Hub.Config({SVG: {font: \"STIX-Web\"}});}</script>\n",
              "                <script type=\"text/javascript\">window.PlotlyConfig = {MathJaxConfig: 'local'};</script>\n",
              "        <script src=\"https://cdn.plot.ly/plotly-latest.min.js\"></script>    \n",
              "            <div id=\"4fadf490-cb38-4a90-bbb0-fc8e0e6ff8b0\" class=\"plotly-graph-div\" style=\"height:525px; width:100%;\"></div>\n",
              "            <script type=\"text/javascript\">\n",
              "                \n",
              "                    window.PLOTLYENV=window.PLOTLYENV || {};\n",
              "                    \n",
              "                if (document.getElementById(\"4fadf490-cb38-4a90-bbb0-fc8e0e6ff8b0\")) {\n",
              "                    Plotly.newPlot(\n",
              "                        '4fadf490-cb38-4a90-bbb0-fc8e0e6ff8b0',\n",
              "                        [{\"hoverlabel\": {\"namelength\": 0}, \"hovertemplate\": \"DiasAlVto=%{x}<br>tna=%{y}\", \"legendgroup\": \"\", \"marker\": {\"color\": \"#636efa\", \"symbol\": \"circle\"}, \"mode\": \"markers\", \"name\": \"\", \"showlegend\": false, \"type\": \"scatter\", \"x\": [13, 44, 74, 104, 132, 165, 195, 226, 256, 317, 348], \"xaxis\": \"x\", \"y\": [0.41662531017369864, 0.43243401759530803, 0.509790758500436, 0.49587468982630295, 0.5184213098729229, 0.5294819159335286, 0.5410090984284533, 0.528275763631173, 0.5281829637096774, 0.5403500559682508, 0.5345754542083798], \"yaxis\": \"y\"}, {\"hoverlabel\": {\"namelength\": 0}, \"hovertemplate\": \"<b>LOWESS trendline</b><br><br>DiasAlVto=%{x}<br>tna=%{y} <b>(trend)</b>\", \"legendgroup\": \"\", \"marker\": {\"color\": \"#636efa\", \"symbol\": \"circle\"}, \"mode\": \"lines\", \"name\": \"\", \"showlegend\": false, \"type\": \"scatter\", \"x\": [13, 44, 74, 104, 132, 165, 195, 226, 256, 317, 348], \"xaxis\": \"x\", \"y\": [0.4128639101072985, 0.4397783582357916, 0.46543034219266327, 0.4915891653679203, 0.5133913317235714, 0.5257311458526407, 0.5279507037344958, 0.5310303302314737, 0.532768114150926, 0.5352099528369361, 0.5368005407883458], \"yaxis\": \"y\"}],\n",
              "                        {\"legend\": {\"tracegroupgap\": 0}, \"margin\": {\"t\": 60}, \"template\": {\"data\": {\"bar\": [{\"error_x\": {\"color\": \"#2a3f5f\"}, \"error_y\": {\"color\": \"#2a3f5f\"}, \"marker\": {\"line\": {\"color\": \"#E5ECF6\", \"width\": 0.5}}, \"type\": \"bar\"}], \"barpolar\": [{\"marker\": {\"line\": {\"color\": \"#E5ECF6\", \"width\": 0.5}}, \"type\": \"barpolar\"}], \"carpet\": [{\"aaxis\": {\"endlinecolor\": \"#2a3f5f\", \"gridcolor\": \"white\", \"linecolor\": \"white\", \"minorgridcolor\": \"white\", \"startlinecolor\": \"#2a3f5f\"}, \"baxis\": {\"endlinecolor\": \"#2a3f5f\", \"gridcolor\": \"white\", \"linecolor\": \"white\", \"minorgridcolor\": \"white\", \"startlinecolor\": \"#2a3f5f\"}, \"type\": \"carpet\"}], \"choropleth\": [{\"colorbar\": {\"outlinewidth\": 0, \"ticks\": \"\"}, \"type\": \"choropleth\"}], \"contour\": [{\"colorbar\": {\"outlinewidth\": 0, \"ticks\": \"\"}, \"colorscale\": [[0.0, \"#0d0887\"], [0.1111111111111111, \"#46039f\"], [0.2222222222222222, \"#7201a8\"], [0.3333333333333333, \"#9c179e\"], [0.4444444444444444, \"#bd3786\"], [0.5555555555555556, \"#d8576b\"], [0.6666666666666666, \"#ed7953\"], [0.7777777777777778, \"#fb9f3a\"], [0.8888888888888888, \"#fdca26\"], [1.0, \"#f0f921\"]], \"type\": \"contour\"}], \"contourcarpet\": [{\"colorbar\": {\"outlinewidth\": 0, \"ticks\": \"\"}, \"type\": \"contourcarpet\"}], \"heatmap\": [{\"colorbar\": {\"outlinewidth\": 0, \"ticks\": \"\"}, \"colorscale\": [[0.0, \"#0d0887\"], [0.1111111111111111, \"#46039f\"], [0.2222222222222222, \"#7201a8\"], [0.3333333333333333, \"#9c179e\"], [0.4444444444444444, \"#bd3786\"], [0.5555555555555556, \"#d8576b\"], [0.6666666666666666, \"#ed7953\"], [0.7777777777777778, \"#fb9f3a\"], [0.8888888888888888, \"#fdca26\"], [1.0, \"#f0f921\"]], \"type\": \"heatmap\"}], \"heatmapgl\": [{\"colorbar\": {\"outlinewidth\": 0, \"ticks\": \"\"}, \"colorscale\": [[0.0, \"#0d0887\"], [0.1111111111111111, \"#46039f\"], [0.2222222222222222, \"#7201a8\"], [0.3333333333333333, \"#9c179e\"], [0.4444444444444444, \"#bd3786\"], [0.5555555555555556, \"#d8576b\"], [0.6666666666666666, \"#ed7953\"], [0.7777777777777778, \"#fb9f3a\"], [0.8888888888888888, \"#fdca26\"], [1.0, \"#f0f921\"]], \"type\": \"heatmapgl\"}], \"histogram\": [{\"marker\": {\"colorbar\": {\"outlinewidth\": 0, \"ticks\": \"\"}}, \"type\": \"histogram\"}], \"histogram2d\": [{\"colorbar\": {\"outlinewidth\": 0, \"ticks\": \"\"}, \"colorscale\": [[0.0, \"#0d0887\"], [0.1111111111111111, \"#46039f\"], [0.2222222222222222, \"#7201a8\"], [0.3333333333333333, \"#9c179e\"], [0.4444444444444444, \"#bd3786\"], [0.5555555555555556, \"#d8576b\"], [0.6666666666666666, \"#ed7953\"], [0.7777777777777778, \"#fb9f3a\"], [0.8888888888888888, \"#fdca26\"], [1.0, \"#f0f921\"]], \"type\": \"histogram2d\"}], \"histogram2dcontour\": [{\"colorbar\": {\"outlinewidth\": 0, \"ticks\": \"\"}, \"colorscale\": [[0.0, \"#0d0887\"], [0.1111111111111111, \"#46039f\"], [0.2222222222222222, \"#7201a8\"], [0.3333333333333333, \"#9c179e\"], [0.4444444444444444, \"#bd3786\"], [0.5555555555555556, \"#d8576b\"], [0.6666666666666666, \"#ed7953\"], [0.7777777777777778, \"#fb9f3a\"], [0.8888888888888888, \"#fdca26\"], [1.0, \"#f0f921\"]], \"type\": \"histogram2dcontour\"}], \"mesh3d\": [{\"colorbar\": {\"outlinewidth\": 0, \"ticks\": \"\"}, \"type\": \"mesh3d\"}], \"parcoords\": [{\"line\": {\"colorbar\": {\"outlinewidth\": 0, \"ticks\": \"\"}}, \"type\": \"parcoords\"}], \"pie\": [{\"automargin\": true, \"type\": \"pie\"}], \"scatter\": [{\"marker\": {\"colorbar\": {\"outlinewidth\": 0, \"ticks\": \"\"}}, \"type\": \"scatter\"}], \"scatter3d\": [{\"line\": {\"colorbar\": {\"outlinewidth\": 0, \"ticks\": \"\"}}, \"marker\": {\"colorbar\": {\"outlinewidth\": 0, \"ticks\": \"\"}}, \"type\": \"scatter3d\"}], \"scattercarpet\": [{\"marker\": {\"colorbar\": {\"outlinewidth\": 0, \"ticks\": \"\"}}, \"type\": \"scattercarpet\"}], \"scattergeo\": [{\"marker\": {\"colorbar\": {\"outlinewidth\": 0, \"ticks\": \"\"}}, \"type\": \"scattergeo\"}], \"scattergl\": [{\"marker\": {\"colorbar\": {\"outlinewidth\": 0, \"ticks\": \"\"}}, \"type\": \"scattergl\"}], \"scattermapbox\": [{\"marker\": {\"colorbar\": {\"outlinewidth\": 0, \"ticks\": \"\"}}, \"type\": \"scattermapbox\"}], \"scatterpolar\": [{\"marker\": {\"colorbar\": {\"outlinewidth\": 0, \"ticks\": \"\"}}, \"type\": \"scatterpolar\"}], \"scatterpolargl\": [{\"marker\": {\"colorbar\": {\"outlinewidth\": 0, \"ticks\": \"\"}}, \"type\": \"scatterpolargl\"}], \"scatterternary\": [{\"marker\": {\"colorbar\": {\"outlinewidth\": 0, \"ticks\": \"\"}}, \"type\": \"scatterternary\"}], \"surface\": [{\"colorbar\": {\"outlinewidth\": 0, \"ticks\": \"\"}, \"colorscale\": [[0.0, \"#0d0887\"], [0.1111111111111111, \"#46039f\"], [0.2222222222222222, \"#7201a8\"], [0.3333333333333333, \"#9c179e\"], [0.4444444444444444, \"#bd3786\"], [0.5555555555555556, \"#d8576b\"], [0.6666666666666666, \"#ed7953\"], [0.7777777777777778, \"#fb9f3a\"], [0.8888888888888888, \"#fdca26\"], [1.0, \"#f0f921\"]], \"type\": \"surface\"}], \"table\": [{\"cells\": {\"fill\": {\"color\": \"#EBF0F8\"}, \"line\": {\"color\": \"white\"}}, \"header\": {\"fill\": {\"color\": \"#C8D4E3\"}, \"line\": {\"color\": \"white\"}}, \"type\": \"table\"}]}, \"layout\": {\"annotationdefaults\": {\"arrowcolor\": \"#2a3f5f\", \"arrowhead\": 0, \"arrowwidth\": 1}, \"coloraxis\": {\"colorbar\": {\"outlinewidth\": 0, \"ticks\": \"\"}}, \"colorscale\": {\"diverging\": [[0, \"#8e0152\"], [0.1, \"#c51b7d\"], [0.2, \"#de77ae\"], [0.3, \"#f1b6da\"], [0.4, \"#fde0ef\"], [0.5, \"#f7f7f7\"], [0.6, \"#e6f5d0\"], [0.7, \"#b8e186\"], [0.8, \"#7fbc41\"], [0.9, \"#4d9221\"], [1, \"#276419\"]], \"sequential\": [[0.0, \"#0d0887\"], [0.1111111111111111, \"#46039f\"], [0.2222222222222222, \"#7201a8\"], [0.3333333333333333, \"#9c179e\"], [0.4444444444444444, \"#bd3786\"], [0.5555555555555556, \"#d8576b\"], [0.6666666666666666, \"#ed7953\"], [0.7777777777777778, \"#fb9f3a\"], [0.8888888888888888, \"#fdca26\"], [1.0, \"#f0f921\"]], \"sequentialminus\": [[0.0, \"#0d0887\"], [0.1111111111111111, \"#46039f\"], [0.2222222222222222, \"#7201a8\"], [0.3333333333333333, \"#9c179e\"], [0.4444444444444444, \"#bd3786\"], [0.5555555555555556, \"#d8576b\"], [0.6666666666666666, \"#ed7953\"], [0.7777777777777778, \"#fb9f3a\"], [0.8888888888888888, \"#fdca26\"], [1.0, \"#f0f921\"]]}, \"colorway\": [\"#636efa\", \"#EF553B\", \"#00cc96\", \"#ab63fa\", \"#FFA15A\", \"#19d3f3\", \"#FF6692\", \"#B6E880\", \"#FF97FF\", \"#FECB52\"], \"font\": {\"color\": \"#2a3f5f\"}, \"geo\": {\"bgcolor\": \"white\", \"lakecolor\": \"white\", \"landcolor\": \"#E5ECF6\", \"showlakes\": true, \"showland\": true, \"subunitcolor\": \"white\"}, \"hoverlabel\": {\"align\": \"left\"}, \"hovermode\": \"closest\", \"mapbox\": {\"style\": \"light\"}, \"paper_bgcolor\": \"white\", \"plot_bgcolor\": \"#E5ECF6\", \"polar\": {\"angularaxis\": {\"gridcolor\": \"white\", \"linecolor\": \"white\", \"ticks\": \"\"}, \"bgcolor\": \"#E5ECF6\", \"radialaxis\": {\"gridcolor\": \"white\", \"linecolor\": \"white\", \"ticks\": \"\"}}, \"scene\": {\"xaxis\": {\"backgroundcolor\": \"#E5ECF6\", \"gridcolor\": \"white\", \"gridwidth\": 2, \"linecolor\": \"white\", \"showbackground\": true, \"ticks\": \"\", \"zerolinecolor\": \"white\"}, \"yaxis\": {\"backgroundcolor\": \"#E5ECF6\", \"gridcolor\": \"white\", \"gridwidth\": 2, \"linecolor\": \"white\", \"showbackground\": true, \"ticks\": \"\", \"zerolinecolor\": \"white\"}, \"zaxis\": {\"backgroundcolor\": \"#E5ECF6\", \"gridcolor\": \"white\", \"gridwidth\": 2, \"linecolor\": \"white\", \"showbackground\": true, \"ticks\": \"\", \"zerolinecolor\": \"white\"}}, \"shapedefaults\": {\"line\": {\"color\": \"#2a3f5f\"}}, \"ternary\": {\"aaxis\": {\"gridcolor\": \"white\", \"linecolor\": \"white\", \"ticks\": \"\"}, \"baxis\": {\"gridcolor\": \"white\", \"linecolor\": \"white\", \"ticks\": \"\"}, \"bgcolor\": \"#E5ECF6\", \"caxis\": {\"gridcolor\": \"white\", \"linecolor\": \"white\", \"ticks\": \"\"}}, \"title\": {\"x\": 0.05}, \"xaxis\": {\"automargin\": true, \"gridcolor\": \"white\", \"linecolor\": \"white\", \"ticks\": \"\", \"title\": {\"standoff\": 15}, \"zerolinecolor\": \"white\", \"zerolinewidth\": 2}, \"yaxis\": {\"automargin\": true, \"gridcolor\": \"white\", \"linecolor\": \"white\", \"ticks\": \"\", \"title\": {\"standoff\": 15}, \"zerolinecolor\": \"white\", \"zerolinewidth\": 2}}}, \"xaxis\": {\"anchor\": \"y\", \"domain\": [0.0, 1.0], \"title\": {\"text\": \"DiasAlVto\"}}, \"yaxis\": {\"anchor\": \"x\", \"domain\": [0.0, 1.0], \"title\": {\"text\": \"tna\"}}},\n",
              "                        {\"responsive\": true}\n",
              "                    ).then(function(){\n",
              "                            \n",
              "var gd = document.getElementById('4fadf490-cb38-4a90-bbb0-fc8e0e6ff8b0');\n",
              "var x = new MutationObserver(function (mutations, observer) {{\n",
              "        var display = window.getComputedStyle(gd).display;\n",
              "        if (!display || display === 'none') {{\n",
              "            console.log([gd, 'removed!']);\n",
              "            Plotly.purge(gd);\n",
              "            observer.disconnect();\n",
              "        }}\n",
              "}});\n",
              "\n",
              "// Listen for the removal of the full notebook cells\n",
              "var notebookContainer = gd.closest('#notebook-container');\n",
              "if (notebookContainer) {{\n",
              "    x.observe(notebookContainer, {childList: true});\n",
              "}}\n",
              "\n",
              "// Listen for the clearing of the current output cell\n",
              "var outputEl = gd.closest('.output');\n",
              "if (outputEl) {{\n",
              "    x.observe(outputEl, {childList: true});\n",
              "}}\n",
              "\n",
              "                        })\n",
              "                };\n",
              "                \n",
              "            </script>\n",
              "        </div>\n",
              "</body>\n",
              "</html>"
            ]
          },
          "metadata": {
            "tags": []
          }
        }
      ]
    },
    {
      "cell_type": "code",
      "metadata": {
        "id": "1Jq5AnJI7xwD",
        "cellView": "form",
        "outputId": "3e598817-9ab3-4986-d9f0-0f7fd43e7290",
        "colab": {
          "base_uri": "https://localhost:8080/",
          "height": 817
        }
      },
      "source": [
        "#@title Resumen Sublots Rofex Settlement\n",
        "fig = make_subplots(\n",
        "    rows=1, cols=2,\n",
        "    shared_xaxes=True,\n",
        "    vertical_spacing=0.03,\n",
        "    specs=[[{\"type\": \"table\"},{\"type\": \"scatter\"}]]\n",
        ")\n",
        "fig.add_trace(\n",
        "    go.Scatter(\n",
        "        x=curva_settlement[\"DiasAlVto\"],\n",
        "        y=curva_settlement[\"tna\"],\n",
        "        name=\"Rofex Settlement\"\n",
        "    ),\n",
        "    row=1, col=2)\n",
        "\n",
        "fig.add_trace(\n",
        "    go.Table(\n",
        "        header=dict(\n",
        "          values=['Ticker','Días al Vto', 'Precio', 'TNA', 'TEA']),\n",
        "        cells=dict(values=[\n",
        "                    curva_settlement.id,\n",
        "                    curva_settlement.DiasAlVto,\n",
        "                    curva_settlement.precio,\n",
        "                    curva_settlement.tna,\n",
        "                    curva_settlement.tea\n",
        "                    ],\n",
        "                    format = [None,'.0f', '.2f','.2%', '.2%']\n",
        "                   )\n",
        "    ),\n",
        "    row=1, col=1)\n",
        "\n",
        "fig.update_layout(\n",
        "    height=800,\n",
        "    yaxis_tickformat = '%',\n",
        "    showlegend=False,\n",
        "    title_text=\"Curva Rofex Settlement (Ajuste)\",\n",
        ")\n",
        "\n",
        "fig.show()"
      ],
      "execution_count": null,
      "outputs": [
        {
          "output_type": "display_data",
          "data": {
            "text/html": [
              "<html>\n",
              "<head><meta charset=\"utf-8\" /></head>\n",
              "<body>\n",
              "    <div>\n",
              "            <script src=\"https://cdnjs.cloudflare.com/ajax/libs/mathjax/2.7.5/MathJax.js?config=TeX-AMS-MML_SVG\"></script><script type=\"text/javascript\">if (window.MathJax) {MathJax.Hub.Config({SVG: {font: \"STIX-Web\"}});}</script>\n",
              "                <script type=\"text/javascript\">window.PlotlyConfig = {MathJaxConfig: 'local'};</script>\n",
              "        <script src=\"https://cdn.plot.ly/plotly-latest.min.js\"></script>    \n",
              "            <div id=\"5490c12a-ac4d-44d0-ac9e-98e7f75301a2\" class=\"plotly-graph-div\" style=\"height:800px; width:100%;\"></div>\n",
              "            <script type=\"text/javascript\">\n",
              "                \n",
              "                    window.PLOTLYENV=window.PLOTLYENV || {};\n",
              "                    \n",
              "                if (document.getElementById(\"5490c12a-ac4d-44d0-ac9e-98e7f75301a2\")) {\n",
              "                    Plotly.newPlot(\n",
              "                        '5490c12a-ac4d-44d0-ac9e-98e7f75301a2',\n",
              "                        [{\"name\": \"Rofex Settlement\", \"type\": \"scatter\", \"x\": [13, 44, 74, 104, 132, 165, 195, 226, 256, 317, 348], \"xaxis\": \"x\", \"y\": [0.41662531017369864, 0.43243401759530803, 0.509790758500436, 0.49587468982630295, 0.5184213098729229, 0.5294819159335286, 0.5410090984284533, 0.528275763631173, 0.5281829637096774, 0.5403500559682508, 0.5345754542083798], \"yaxis\": \"y\"}, {\"cells\": {\"format\": [null, \".0f\", \".2f\", \".2%\", \".2%\"], \"values\": [[\"DOOct20A\", \"DONov20A\", \"DODic20A\", \"DOEne21A\", \"DOFeb21A\", \"DOMar21A\", \"DOAbr21A\", \"DOMay21A\", \"DOJun21A\", \"DOAgo21A\", \"DOSep21A\"], [13, 44, 74, 104, 132, 165, 195, 226, 256, 317, 348], [78.65, 81.54, 85.51, 88.45, 92.03, 96.05, 99.9, 102.85, 106.21, 113.87, 117.0], [0.41662531017369864, 0.43243401759530803, 0.509790758500436, 0.49587468982630295, 0.5184213098729229, 0.5294819159335286, 0.5410090984284533, 0.528275763631173, 0.5281829637096774, 0.5403500559682508, 0.5345754542083798], [0.41662531017369864, 0.43243401759530803, 0.509790758500436, 0.49587468982630295, 0.5184213098729229, 0.5294819159335286, 0.5410090984284533, 0.528275763631173, 0.5281829637096774, 0.5403500559682508, 0.5345754542083798]]}, \"domain\": {\"x\": [0.0, 0.45], \"y\": [0.0, 1.0]}, \"header\": {\"values\": [\"Ticker\", \"D\\u00edas al Vto\", \"Precio\", \"TNA\", \"TEA\"]}, \"type\": \"table\"}],\n",
              "                        {\"height\": 800, \"showlegend\": false, \"template\": {\"data\": {\"bar\": [{\"error_x\": {\"color\": \"#2a3f5f\"}, \"error_y\": {\"color\": \"#2a3f5f\"}, \"marker\": {\"line\": {\"color\": \"#E5ECF6\", \"width\": 0.5}}, \"type\": \"bar\"}], \"barpolar\": [{\"marker\": {\"line\": {\"color\": \"#E5ECF6\", \"width\": 0.5}}, \"type\": \"barpolar\"}], \"carpet\": [{\"aaxis\": {\"endlinecolor\": \"#2a3f5f\", \"gridcolor\": \"white\", \"linecolor\": \"white\", \"minorgridcolor\": \"white\", \"startlinecolor\": \"#2a3f5f\"}, \"baxis\": {\"endlinecolor\": \"#2a3f5f\", \"gridcolor\": \"white\", \"linecolor\": \"white\", \"minorgridcolor\": \"white\", \"startlinecolor\": \"#2a3f5f\"}, \"type\": \"carpet\"}], \"choropleth\": [{\"colorbar\": {\"outlinewidth\": 0, \"ticks\": \"\"}, \"type\": \"choropleth\"}], \"contour\": [{\"colorbar\": {\"outlinewidth\": 0, \"ticks\": \"\"}, \"colorscale\": [[0.0, \"#0d0887\"], [0.1111111111111111, \"#46039f\"], [0.2222222222222222, \"#7201a8\"], [0.3333333333333333, \"#9c179e\"], [0.4444444444444444, \"#bd3786\"], [0.5555555555555556, \"#d8576b\"], [0.6666666666666666, \"#ed7953\"], [0.7777777777777778, \"#fb9f3a\"], [0.8888888888888888, \"#fdca26\"], [1.0, \"#f0f921\"]], \"type\": \"contour\"}], \"contourcarpet\": [{\"colorbar\": {\"outlinewidth\": 0, \"ticks\": \"\"}, \"type\": \"contourcarpet\"}], \"heatmap\": [{\"colorbar\": {\"outlinewidth\": 0, \"ticks\": \"\"}, \"colorscale\": [[0.0, \"#0d0887\"], [0.1111111111111111, \"#46039f\"], [0.2222222222222222, \"#7201a8\"], [0.3333333333333333, \"#9c179e\"], [0.4444444444444444, \"#bd3786\"], [0.5555555555555556, \"#d8576b\"], [0.6666666666666666, \"#ed7953\"], [0.7777777777777778, \"#fb9f3a\"], [0.8888888888888888, \"#fdca26\"], [1.0, \"#f0f921\"]], \"type\": \"heatmap\"}], \"heatmapgl\": [{\"colorbar\": {\"outlinewidth\": 0, \"ticks\": \"\"}, \"colorscale\": [[0.0, \"#0d0887\"], [0.1111111111111111, \"#46039f\"], [0.2222222222222222, \"#7201a8\"], [0.3333333333333333, \"#9c179e\"], [0.4444444444444444, \"#bd3786\"], [0.5555555555555556, \"#d8576b\"], [0.6666666666666666, \"#ed7953\"], [0.7777777777777778, \"#fb9f3a\"], [0.8888888888888888, \"#fdca26\"], [1.0, \"#f0f921\"]], \"type\": \"heatmapgl\"}], \"histogram\": [{\"marker\": {\"colorbar\": {\"outlinewidth\": 0, \"ticks\": \"\"}}, \"type\": \"histogram\"}], \"histogram2d\": [{\"colorbar\": {\"outlinewidth\": 0, \"ticks\": \"\"}, \"colorscale\": [[0.0, \"#0d0887\"], [0.1111111111111111, \"#46039f\"], [0.2222222222222222, \"#7201a8\"], [0.3333333333333333, \"#9c179e\"], [0.4444444444444444, \"#bd3786\"], [0.5555555555555556, \"#d8576b\"], [0.6666666666666666, \"#ed7953\"], [0.7777777777777778, \"#fb9f3a\"], [0.8888888888888888, \"#fdca26\"], [1.0, \"#f0f921\"]], \"type\": \"histogram2d\"}], \"histogram2dcontour\": [{\"colorbar\": {\"outlinewidth\": 0, \"ticks\": \"\"}, \"colorscale\": [[0.0, \"#0d0887\"], [0.1111111111111111, \"#46039f\"], [0.2222222222222222, \"#7201a8\"], [0.3333333333333333, \"#9c179e\"], [0.4444444444444444, \"#bd3786\"], [0.5555555555555556, \"#d8576b\"], [0.6666666666666666, \"#ed7953\"], [0.7777777777777778, \"#fb9f3a\"], [0.8888888888888888, \"#fdca26\"], [1.0, \"#f0f921\"]], \"type\": \"histogram2dcontour\"}], \"mesh3d\": [{\"colorbar\": {\"outlinewidth\": 0, \"ticks\": \"\"}, \"type\": \"mesh3d\"}], \"parcoords\": [{\"line\": {\"colorbar\": {\"outlinewidth\": 0, \"ticks\": \"\"}}, \"type\": \"parcoords\"}], \"pie\": [{\"automargin\": true, \"type\": \"pie\"}], \"scatter\": [{\"marker\": {\"colorbar\": {\"outlinewidth\": 0, \"ticks\": \"\"}}, \"type\": \"scatter\"}], \"scatter3d\": [{\"line\": {\"colorbar\": {\"outlinewidth\": 0, \"ticks\": \"\"}}, \"marker\": {\"colorbar\": {\"outlinewidth\": 0, \"ticks\": \"\"}}, \"type\": \"scatter3d\"}], \"scattercarpet\": [{\"marker\": {\"colorbar\": {\"outlinewidth\": 0, \"ticks\": \"\"}}, \"type\": \"scattercarpet\"}], \"scattergeo\": [{\"marker\": {\"colorbar\": {\"outlinewidth\": 0, \"ticks\": \"\"}}, \"type\": \"scattergeo\"}], \"scattergl\": [{\"marker\": {\"colorbar\": {\"outlinewidth\": 0, \"ticks\": \"\"}}, \"type\": \"scattergl\"}], \"scattermapbox\": [{\"marker\": {\"colorbar\": {\"outlinewidth\": 0, \"ticks\": \"\"}}, \"type\": \"scattermapbox\"}], \"scatterpolar\": [{\"marker\": {\"colorbar\": {\"outlinewidth\": 0, \"ticks\": \"\"}}, \"type\": \"scatterpolar\"}], \"scatterpolargl\": [{\"marker\": {\"colorbar\": {\"outlinewidth\": 0, \"ticks\": \"\"}}, \"type\": \"scatterpolargl\"}], \"scatterternary\": [{\"marker\": {\"colorbar\": {\"outlinewidth\": 0, \"ticks\": \"\"}}, \"type\": \"scatterternary\"}], \"surface\": [{\"colorbar\": {\"outlinewidth\": 0, \"ticks\": \"\"}, \"colorscale\": [[0.0, \"#0d0887\"], [0.1111111111111111, \"#46039f\"], [0.2222222222222222, \"#7201a8\"], [0.3333333333333333, \"#9c179e\"], [0.4444444444444444, \"#bd3786\"], [0.5555555555555556, \"#d8576b\"], [0.6666666666666666, \"#ed7953\"], [0.7777777777777778, \"#fb9f3a\"], [0.8888888888888888, \"#fdca26\"], [1.0, \"#f0f921\"]], \"type\": \"surface\"}], \"table\": [{\"cells\": {\"fill\": {\"color\": \"#EBF0F8\"}, \"line\": {\"color\": \"white\"}}, \"header\": {\"fill\": {\"color\": \"#C8D4E3\"}, \"line\": {\"color\": \"white\"}}, \"type\": \"table\"}]}, \"layout\": {\"annotationdefaults\": {\"arrowcolor\": \"#2a3f5f\", \"arrowhead\": 0, \"arrowwidth\": 1}, \"coloraxis\": {\"colorbar\": {\"outlinewidth\": 0, \"ticks\": \"\"}}, \"colorscale\": {\"diverging\": [[0, \"#8e0152\"], [0.1, \"#c51b7d\"], [0.2, \"#de77ae\"], [0.3, \"#f1b6da\"], [0.4, \"#fde0ef\"], [0.5, \"#f7f7f7\"], [0.6, \"#e6f5d0\"], [0.7, \"#b8e186\"], [0.8, \"#7fbc41\"], [0.9, \"#4d9221\"], [1, \"#276419\"]], \"sequential\": [[0.0, \"#0d0887\"], [0.1111111111111111, \"#46039f\"], [0.2222222222222222, \"#7201a8\"], [0.3333333333333333, \"#9c179e\"], [0.4444444444444444, \"#bd3786\"], [0.5555555555555556, \"#d8576b\"], [0.6666666666666666, \"#ed7953\"], [0.7777777777777778, \"#fb9f3a\"], [0.8888888888888888, \"#fdca26\"], [1.0, \"#f0f921\"]], \"sequentialminus\": [[0.0, \"#0d0887\"], [0.1111111111111111, \"#46039f\"], [0.2222222222222222, \"#7201a8\"], [0.3333333333333333, \"#9c179e\"], [0.4444444444444444, \"#bd3786\"], [0.5555555555555556, \"#d8576b\"], [0.6666666666666666, \"#ed7953\"], [0.7777777777777778, \"#fb9f3a\"], [0.8888888888888888, \"#fdca26\"], [1.0, \"#f0f921\"]]}, \"colorway\": [\"#636efa\", \"#EF553B\", \"#00cc96\", \"#ab63fa\", \"#FFA15A\", \"#19d3f3\", \"#FF6692\", \"#B6E880\", \"#FF97FF\", \"#FECB52\"], \"font\": {\"color\": \"#2a3f5f\"}, \"geo\": {\"bgcolor\": \"white\", \"lakecolor\": \"white\", \"landcolor\": \"#E5ECF6\", \"showlakes\": true, \"showland\": true, \"subunitcolor\": \"white\"}, \"hoverlabel\": {\"align\": \"left\"}, \"hovermode\": \"closest\", \"mapbox\": {\"style\": \"light\"}, \"paper_bgcolor\": \"white\", \"plot_bgcolor\": \"#E5ECF6\", \"polar\": {\"angularaxis\": {\"gridcolor\": \"white\", \"linecolor\": \"white\", \"ticks\": \"\"}, \"bgcolor\": \"#E5ECF6\", \"radialaxis\": {\"gridcolor\": \"white\", \"linecolor\": \"white\", \"ticks\": \"\"}}, \"scene\": {\"xaxis\": {\"backgroundcolor\": \"#E5ECF6\", \"gridcolor\": \"white\", \"gridwidth\": 2, \"linecolor\": \"white\", \"showbackground\": true, \"ticks\": \"\", \"zerolinecolor\": \"white\"}, \"yaxis\": {\"backgroundcolor\": \"#E5ECF6\", \"gridcolor\": \"white\", \"gridwidth\": 2, \"linecolor\": \"white\", \"showbackground\": true, \"ticks\": \"\", \"zerolinecolor\": \"white\"}, \"zaxis\": {\"backgroundcolor\": \"#E5ECF6\", \"gridcolor\": \"white\", \"gridwidth\": 2, \"linecolor\": \"white\", \"showbackground\": true, \"ticks\": \"\", \"zerolinecolor\": \"white\"}}, \"shapedefaults\": {\"line\": {\"color\": \"#2a3f5f\"}}, \"ternary\": {\"aaxis\": {\"gridcolor\": \"white\", \"linecolor\": \"white\", \"ticks\": \"\"}, \"baxis\": {\"gridcolor\": \"white\", \"linecolor\": \"white\", \"ticks\": \"\"}, \"bgcolor\": \"#E5ECF6\", \"caxis\": {\"gridcolor\": \"white\", \"linecolor\": \"white\", \"ticks\": \"\"}}, \"title\": {\"x\": 0.05}, \"xaxis\": {\"automargin\": true, \"gridcolor\": \"white\", \"linecolor\": \"white\", \"ticks\": \"\", \"title\": {\"standoff\": 15}, \"zerolinecolor\": \"white\", \"zerolinewidth\": 2}, \"yaxis\": {\"automargin\": true, \"gridcolor\": \"white\", \"linecolor\": \"white\", \"ticks\": \"\", \"title\": {\"standoff\": 15}, \"zerolinecolor\": \"white\", \"zerolinewidth\": 2}}}, \"title\": {\"text\": \"Curva Rofex Settlement (Ajuste)\"}, \"xaxis\": {\"anchor\": \"y\", \"domain\": [0.55, 1.0]}, \"yaxis\": {\"anchor\": \"x\", \"domain\": [0.0, 1.0], \"tickformat\": \"%\"}},\n",
              "                        {\"responsive\": true}\n",
              "                    ).then(function(){\n",
              "                            \n",
              "var gd = document.getElementById('5490c12a-ac4d-44d0-ac9e-98e7f75301a2');\n",
              "var x = new MutationObserver(function (mutations, observer) {{\n",
              "        var display = window.getComputedStyle(gd).display;\n",
              "        if (!display || display === 'none') {{\n",
              "            console.log([gd, 'removed!']);\n",
              "            Plotly.purge(gd);\n",
              "            observer.disconnect();\n",
              "        }}\n",
              "}});\n",
              "\n",
              "// Listen for the removal of the full notebook cells\n",
              "var notebookContainer = gd.closest('#notebook-container');\n",
              "if (notebookContainer) {{\n",
              "    x.observe(notebookContainer, {childList: true});\n",
              "}}\n",
              "\n",
              "// Listen for the clearing of the current output cell\n",
              "var outputEl = gd.closest('.output');\n",
              "if (outputEl) {{\n",
              "    x.observe(outputEl, {childList: true});\n",
              "}}\n",
              "\n",
              "                        })\n",
              "                };\n",
              "                \n",
              "            </script>\n",
              "        </div>\n",
              "</body>\n",
              "</html>"
            ]
          },
          "metadata": {
            "tags": []
          }
        }
      ]
    }
  ]
}